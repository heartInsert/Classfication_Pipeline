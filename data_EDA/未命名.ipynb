{
 "cells": [
  {
   "cell_type": "code",
   "execution_count": 1,
   "metadata": {
    "scrolled": true
   },
   "outputs": [
    {
     "name": "stdout",
     "output_type": "stream",
     "text": [
      "smart_open library not found; falling back to local-filesystem-only\n",
      "[jieba] default dict file path ../data/vocab.txt\n",
      "[jieba] default dict file path ../data/vocab.txt\n",
      "[jieba] load default dict ../data/vocab.txt ...\n",
      "[jieba] load default dict ../data/vocab.txt ...\n",
      ">> Synonyms load wordseg dict [/home/xjz/miniconda3/envs/pytorch_newest/lib/python3.7/site-packages/synonyms/data/vocab.txt] ... \n",
      ">> Synonyms on loading stopwords [/home/xjz/miniconda3/envs/pytorch_newest/lib/python3.7/site-packages/synonyms/data/stopwords.txt] ...\n",
      "[Synonyms] on loading vectors [/home/xjz/miniconda3/envs/pytorch_newest/lib/python3.7/site-packages/synonyms/data/words.vector.gz] ...\n"
     ]
    }
   ],
   "source": [
    "import synonyms"
   ]
  },
  {
   "cell_type": "code",
   "execution_count": 2,
   "metadata": {},
   "outputs": [],
   "source": [
    "\n",
    "def synonym_replace(text,replaceable_tag):\n",
    "    split_words, tags = synonyms.seg(text)\n",
    "    index = [i for i in range(len(tags)) if tags[i] in replaceable_tag]\n",
    "    if len(index) > 0:\n",
    "        choose_word_index = random.sample(index, 1)[0]\n",
    "        choose_word = split_words[choose_word_index]\n",
    "        nearby_words, nearby_score = synonyms.nearby(choose_word, size=4)\n",
    "        nearby_index = [i for i in range(len(nearby_score)) if nearby_score[i] > 0.7]\n",
    "        if len(nearby_index) > 0:\n",
    "            choose_nearby = random.sample(nearby_index, 1)[0]\n",
    "            split_words[choose_word_index] = nearby_words[choose_nearby]\n",
    "\n",
    "    return ''.join(split_words)\n"
   ]
  },
  {
   "cell_type": "code",
   "execution_count": null,
   "metadata": {},
   "outputs": [],
   "source": [
    "\n",
    "replaceable_tag = ['a', 'n', 'v', 't']\n",
    "start = datetime.now()\n",
    "for i in range(100):\n",
    "    synonym_replace('房子您可以给我发一下吗？我给您约一下。',replaceable_tag)\n",
    "end = datetime.now()\n",
    "print(\"numba加速的函数运行时间： %s\" % (end - start))"
   ]
  }
 ],
 "metadata": {
  "kernelspec": {
   "display_name": "Python [conda env:pytorch_newest] *",
   "language": "python",
   "name": "conda-env-pytorch_newest-py"
  },
  "language_info": {
   "codemirror_mode": {
    "name": "ipython",
    "version": 3
   },
   "file_extension": ".py",
   "mimetype": "text/x-python",
   "name": "python",
   "nbconvert_exporter": "python",
   "pygments_lexer": "ipython3",
   "version": "3.7.4"
  }
 },
 "nbformat": 4,
 "nbformat_minor": 4
}
